{
 "cells": [
  {
   "attachments": {},
   "cell_type": "markdown",
   "id": "52dfe6c5",
   "metadata": {},
   "source": [
    "# Panorama creator"
   ]
  },
  {
   "cell_type": "code",
   "execution_count": 1,
   "id": "fc260236",
   "metadata": {},
   "outputs": [
    {
     "name": "stdout",
     "output_type": "stream",
     "text": [
      "coucou\n"
     ]
    }
   ],
   "source": [
    "print('Bienvenue dans le carnet à propos du script python Panorama Creator')"
   ]
  },
  {
   "cell_type": "markdown",
   "id": "1e5e79a5",
   "metadata": {},
   "source": []
  }
 ],
 "metadata": {
  "kernelspec": {
   "display_name": "Python 3",
   "language": "python",
   "name": "python3"
  },
  "language_info": {
   "codemirror_mode": {
    "name": "ipython",
    "version": 3
   },
   "file_extension": ".py",
   "mimetype": "text/x-python",
   "name": "python",
   "nbconvert_exporter": "python",
   "pygments_lexer": "ipython3",
   "version": "3.11.3"
  }
 },
 "nbformat": 4,
 "nbformat_minor": 5
}
